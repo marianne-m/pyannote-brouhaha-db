{
 "cells": [
  {
   "cell_type": "code",
   "execution_count": 8,
   "outputs": [],
   "source": [
    "import numpy as np\n",
    "from pyannote.core import SlidingWindow, SlidingWindowFeature\n",
    "from pyannote.core import Segment\n",
    "\n",
    "initial_feat = SlidingWindowFeature(np.arange(0,10).reshape((10,1)), sliding_window=SlidingWindow(0.5, 0.5, 0, 10))"
   ],
   "metadata": {
    "collapsed": false,
    "pycharm": {
     "name": "#%%\n"
    }
   }
  },
  {
   "cell_type": "code",
   "execution_count": 9,
   "outputs": [
    {
     "data": {
      "text/plain": "array([[5],\n       [6],\n       [7],\n       [8],\n       [9]])"
     },
     "execution_count": 9,
     "metadata": {},
     "output_type": "execute_result"
    }
   ],
   "source": [
    "initial_feat.crop(Segment(3,7))"
   ],
   "metadata": {
    "collapsed": false,
    "pycharm": {
     "name": "#%%\n"
    }
   }
  },
  {
   "cell_type": "code",
   "execution_count": 23,
   "outputs": [],
   "source": [
    "other_feat = SlidingWindowFeature(np.arange(0,100).reshape(100, 1), sliding_window=SlidingWindow(1/3, 1/3, 0, 10))"
   ],
   "metadata": {
    "collapsed": false,
    "pycharm": {
     "name": "#%%\n"
    }
   }
  },
  {
   "cell_type": "code",
   "execution_count": 24,
   "outputs": [
    {
     "data": {
      "text/plain": "[(array([0.]), <Segment(0, 0.333333)>),\n (array([0.5]), <Segment(0.333333, 0.666667)>),\n (array([1.16666667]), <Segment(0.666667, 1)>),\n (array([1.83333333]), <Segment(1, 1.33333)>),\n (array([2.5]), <Segment(1.33333, 1.66667)>),\n (array([3.16666667]), <Segment(1.66667, 2)>),\n (array([3.83333333]), <Segment(2, 2.33333)>),\n (array([4.5]), <Segment(2.33333, 2.66667)>),\n (array([5.16666667]), <Segment(2.66667, 3)>),\n (array([5.83333333]), <Segment(3, 3.33333)>),\n (array([6.5]), <Segment(3.33333, 3.66667)>),\n (array([7.16666667]), <Segment(3.66667, 4)>),\n (array([7.83333333]), <Segment(4, 4.33333)>),\n (array([8.5]), <Segment(4.33333, 4.66667)>),\n (array([9.]), <Segment(4.66667, 5)>),\n (array([9.]), <Segment(5, 5.33333)>),\n (array([9.]), <Segment(5.33333, 5.66667)>),\n (array([9.]), <Segment(5.66667, 6)>),\n (array([9.]), <Segment(6, 6.33333)>),\n (array([9.]), <Segment(6.33333, 6.66667)>),\n (array([9.]), <Segment(6.66667, 7)>),\n (array([9.]), <Segment(7, 7.33333)>),\n (array([9.]), <Segment(7.33333, 7.66667)>),\n (array([9.]), <Segment(7.66667, 8)>),\n (array([9.]), <Segment(8, 8.33333)>),\n (array([9.]), <Segment(8.33333, 8.66667)>),\n (array([9.]), <Segment(8.66667, 9)>),\n (array([9.]), <Segment(9, 9.33333)>),\n (array([9.]), <Segment(9.33333, 9.66667)>),\n (array([9.]), <Segment(9.66667, 10)>),\n (array([9.]), None),\n (array([9.]), None),\n (array([9.]), None),\n (array([9.]), None),\n (array([9.]), None),\n (array([9.]), None),\n (array([9.]), None),\n (array([9.]), None),\n (array([9.]), None),\n (array([9.]), None),\n (array([9.]), None),\n (array([9.]), None),\n (array([9.]), None),\n (array([9.]), None),\n (array([9.]), None),\n (array([9.]), None),\n (array([9.]), None),\n (array([9.]), None),\n (array([9.]), None),\n (array([9.]), None),\n (array([9.]), None),\n (array([9.]), None),\n (array([9.]), None),\n (array([9.]), None),\n (array([9.]), None),\n (array([9.]), None),\n (array([9.]), None),\n (array([9.]), None),\n (array([9.]), None),\n (array([9.]), None),\n (array([9.]), None),\n (array([9.]), None),\n (array([9.]), None),\n (array([9.]), None),\n (array([9.]), None),\n (array([9.]), None),\n (array([9.]), None),\n (array([9.]), None),\n (array([9.]), None),\n (array([9.]), None),\n (array([9.]), None),\n (array([9.]), None),\n (array([9.]), None),\n (array([9.]), None),\n (array([9.]), None),\n (array([9.]), None),\n (array([9.]), None),\n (array([9.]), None),\n (array([9.]), None),\n (array([9.]), None),\n (array([9.]), None),\n (array([9.]), None),\n (array([9.]), None),\n (array([9.]), None),\n (array([9.]), None),\n (array([9.]), None),\n (array([9.]), None),\n (array([9.]), None),\n (array([9.]), None),\n (array([9.]), None),\n (array([9.]), None),\n (array([9.]), None),\n (array([9.]), None),\n (array([9.]), None),\n (array([9.]), None),\n (array([9.]), None),\n (array([9.]), None),\n (array([9.]), None),\n (array([9.]), None),\n (array([9.]), None)]"
     },
     "execution_count": 24,
     "metadata": {},
     "output_type": "execute_result"
    }
   ],
   "source": [
    "list(initial_feat.align(other_feat).iterfeatures(True))"
   ],
   "metadata": {
    "collapsed": false,
    "pycharm": {
     "name": "#%%\n"
    }
   }
  },
  {
   "cell_type": "code",
   "execution_count": 26,
   "outputs": [
    {
     "data": {
      "text/plain": "(10, 1)"
     },
     "execution_count": 26,
     "metadata": {},
     "output_type": "execute_result"
    }
   ],
   "source": [
    "np.arange(0,10)."
   ],
   "metadata": {
    "collapsed": false,
    "pycharm": {
     "name": "#%%\n"
    }
   }
  }
 ],
 "metadata": {
  "kernelspec": {
   "display_name": "Python 3",
   "language": "python",
   "name": "python3"
  },
  "language_info": {
   "codemirror_mode": {
    "name": "ipython",
    "version": 2
   },
   "file_extension": ".py",
   "mimetype": "text/x-python",
   "name": "python",
   "nbconvert_exporter": "python",
   "pygments_lexer": "ipython2",
   "version": "2.7.6"
  }
 },
 "nbformat": 4,
 "nbformat_minor": 0
}